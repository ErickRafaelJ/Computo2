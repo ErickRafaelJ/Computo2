{
  "nbformat": 4,
  "nbformat_minor": 0,
  "metadata": {
    "colab": {
      "provenance": [],
      "authorship_tag": "ABX9TyMo8HyeGxdXHqvSZXkl+b0w",
      "include_colab_link": true
    },
    "kernelspec": {
      "name": "python3",
      "display_name": "Python 3"
    },
    "language_info": {
      "name": "python"
    }
  },
  "cells": [
    {
      "cell_type": "markdown",
      "metadata": {
        "id": "view-in-github",
        "colab_type": "text"
      },
      "source": [
        "<a href=\"https://colab.research.google.com/github/ErickRafaelJ/Computo2/blob/main/Proyecto.ipynb\" target=\"_parent\"><img src=\"https://colab.research.google.com/assets/colab-badge.svg\" alt=\"Open In Colab\"/></a>"
      ]
    },
    {
      "cell_type": "code",
      "execution_count": null,
      "metadata": {
        "id": "CXH9LB-_LkNn"
      },
      "outputs": [],
      "source": [
        "import numpy as np \n",
        "import pandas as pd \n",
        "import matplotlib.pyplot as plt\n",
        "import seaborn as sns\n",
        "import sklearn \n",
        "import scipy \n",
        "from sklearn.metrics import classification_report, accuracy_score\n",
        "import time\n",
        "import multiprocessing\n",
        "\n",
        "import os\n",
        "for dirname, _, filenames in os.walk('/kaggle/input'):\n",
        "    for filename in filenames:\n",
        "        print(os.path.join(dirname, filename))"
      ]
    },
    {
      "cell_type": "code",
      "source": [
        "from sklearn.ensemble import IsolationForest"
      ],
      "metadata": {
        "id": "owvJVGcSL5wz"
      },
      "execution_count": null,
      "outputs": []
    },
    {
      "cell_type": "code",
      "source": [
        "from google.colab import drive\n",
        "drive.mount('/content/drive') \n"
      ],
      "metadata": {
        "colab": {
          "base_uri": "https://localhost:8080/"
        },
        "id": "BNg5Nl33MD4i",
        "outputId": "523107f9-c1a8-41e0-bb0a-8b0f0f36f56b"
      },
      "execution_count": null,
      "outputs": [
        {
          "output_type": "stream",
          "name": "stdout",
          "text": [
            "Drive already mounted at /content/drive; to attempt to forcibly remount, call drive.mount(\"/content/drive\", force_remount=True).\n"
          ]
        }
      ]
    },
    {
      "cell_type": "code",
      "source": [
        "df = pd.read_csv('/content/drive/MyDrive/DataSets/PS_20174392719_1491204439457_log.csv')"
      ],
      "metadata": {
        "id": "wY9ICgCJYx0R"
      },
      "execution_count": null,
      "outputs": []
    },
    {
      "cell_type": "code",
      "source": [
        "df.head()"
      ],
      "metadata": {
        "colab": {
          "base_uri": "https://localhost:8080/",
          "height": 206
        },
        "id": "J3Xxm046MUJK",
        "outputId": "eedc4407-163c-499b-efd8-e55acd23110e"
      },
      "execution_count": null,
      "outputs": [
        {
          "output_type": "execute_result",
          "data": {
            "text/plain": [
              "   step      type    amount     nameOrig  oldBalanceOrig  newBalanceOrig  \\\n",
              "0     1   PAYMENT   9839.64  C1231006815        170136.0       160296.36   \n",
              "1     1   PAYMENT   1864.28  C1666544295         21249.0        19384.72   \n",
              "2     1  TRANSFER    181.00  C1305486145           181.0            0.00   \n",
              "3     1  CASH_OUT    181.00   C840083671           181.0            0.00   \n",
              "4     1   PAYMENT  11668.14  C2048537720         41554.0        29885.86   \n",
              "\n",
              "      nameDest  oldBalanceDest  newBalanceDest  isFraud  isFlaggedFraud  \n",
              "0  M1979787155             0.0             0.0        0               0  \n",
              "1  M2044282225             0.0             0.0        0               0  \n",
              "2   C553264065             0.0             0.0        1               0  \n",
              "3    C38997010         21182.0             0.0        1               0  \n",
              "4  M1230701703             0.0             0.0        0               0  "
            ],
            "text/html": [
              "\n",
              "  <div id=\"df-4ddb038d-75fe-43f6-94db-cf52c8a82958\">\n",
              "    <div class=\"colab-df-container\">\n",
              "      <div>\n",
              "<style scoped>\n",
              "    .dataframe tbody tr th:only-of-type {\n",
              "        vertical-align: middle;\n",
              "    }\n",
              "\n",
              "    .dataframe tbody tr th {\n",
              "        vertical-align: top;\n",
              "    }\n",
              "\n",
              "    .dataframe thead th {\n",
              "        text-align: right;\n",
              "    }\n",
              "</style>\n",
              "<table border=\"1\" class=\"dataframe\">\n",
              "  <thead>\n",
              "    <tr style=\"text-align: right;\">\n",
              "      <th></th>\n",
              "      <th>step</th>\n",
              "      <th>type</th>\n",
              "      <th>amount</th>\n",
              "      <th>nameOrig</th>\n",
              "      <th>oldBalanceOrig</th>\n",
              "      <th>newBalanceOrig</th>\n",
              "      <th>nameDest</th>\n",
              "      <th>oldBalanceDest</th>\n",
              "      <th>newBalanceDest</th>\n",
              "      <th>isFraud</th>\n",
              "      <th>isFlaggedFraud</th>\n",
              "    </tr>\n",
              "  </thead>\n",
              "  <tbody>\n",
              "    <tr>\n",
              "      <th>0</th>\n",
              "      <td>1</td>\n",
              "      <td>PAYMENT</td>\n",
              "      <td>9839.64</td>\n",
              "      <td>C1231006815</td>\n",
              "      <td>170136.0</td>\n",
              "      <td>160296.36</td>\n",
              "      <td>M1979787155</td>\n",
              "      <td>0.0</td>\n",
              "      <td>0.0</td>\n",
              "      <td>0</td>\n",
              "      <td>0</td>\n",
              "    </tr>\n",
              "    <tr>\n",
              "      <th>1</th>\n",
              "      <td>1</td>\n",
              "      <td>PAYMENT</td>\n",
              "      <td>1864.28</td>\n",
              "      <td>C1666544295</td>\n",
              "      <td>21249.0</td>\n",
              "      <td>19384.72</td>\n",
              "      <td>M2044282225</td>\n",
              "      <td>0.0</td>\n",
              "      <td>0.0</td>\n",
              "      <td>0</td>\n",
              "      <td>0</td>\n",
              "    </tr>\n",
              "    <tr>\n",
              "      <th>2</th>\n",
              "      <td>1</td>\n",
              "      <td>TRANSFER</td>\n",
              "      <td>181.00</td>\n",
              "      <td>C1305486145</td>\n",
              "      <td>181.0</td>\n",
              "      <td>0.00</td>\n",
              "      <td>C553264065</td>\n",
              "      <td>0.0</td>\n",
              "      <td>0.0</td>\n",
              "      <td>1</td>\n",
              "      <td>0</td>\n",
              "    </tr>\n",
              "    <tr>\n",
              "      <th>3</th>\n",
              "      <td>1</td>\n",
              "      <td>CASH_OUT</td>\n",
              "      <td>181.00</td>\n",
              "      <td>C840083671</td>\n",
              "      <td>181.0</td>\n",
              "      <td>0.00</td>\n",
              "      <td>C38997010</td>\n",
              "      <td>21182.0</td>\n",
              "      <td>0.0</td>\n",
              "      <td>1</td>\n",
              "      <td>0</td>\n",
              "    </tr>\n",
              "    <tr>\n",
              "      <th>4</th>\n",
              "      <td>1</td>\n",
              "      <td>PAYMENT</td>\n",
              "      <td>11668.14</td>\n",
              "      <td>C2048537720</td>\n",
              "      <td>41554.0</td>\n",
              "      <td>29885.86</td>\n",
              "      <td>M1230701703</td>\n",
              "      <td>0.0</td>\n",
              "      <td>0.0</td>\n",
              "      <td>0</td>\n",
              "      <td>0</td>\n",
              "    </tr>\n",
              "  </tbody>\n",
              "</table>\n",
              "</div>\n",
              "      <button class=\"colab-df-convert\" onclick=\"convertToInteractive('df-4ddb038d-75fe-43f6-94db-cf52c8a82958')\"\n",
              "              title=\"Convert this dataframe to an interactive table.\"\n",
              "              style=\"display:none;\">\n",
              "        \n",
              "  <svg xmlns=\"http://www.w3.org/2000/svg\" height=\"24px\"viewBox=\"0 0 24 24\"\n",
              "       width=\"24px\">\n",
              "    <path d=\"M0 0h24v24H0V0z\" fill=\"none\"/>\n",
              "    <path d=\"M18.56 5.44l.94 2.06.94-2.06 2.06-.94-2.06-.94-.94-2.06-.94 2.06-2.06.94zm-11 1L8.5 8.5l.94-2.06 2.06-.94-2.06-.94L8.5 2.5l-.94 2.06-2.06.94zm10 10l.94 2.06.94-2.06 2.06-.94-2.06-.94-.94-2.06-.94 2.06-2.06.94z\"/><path d=\"M17.41 7.96l-1.37-1.37c-.4-.4-.92-.59-1.43-.59-.52 0-1.04.2-1.43.59L10.3 9.45l-7.72 7.72c-.78.78-.78 2.05 0 2.83L4 21.41c.39.39.9.59 1.41.59.51 0 1.02-.2 1.41-.59l7.78-7.78 2.81-2.81c.8-.78.8-2.07 0-2.86zM5.41 20L4 18.59l7.72-7.72 1.47 1.35L5.41 20z\"/>\n",
              "  </svg>\n",
              "      </button>\n",
              "      \n",
              "  <style>\n",
              "    .colab-df-container {\n",
              "      display:flex;\n",
              "      flex-wrap:wrap;\n",
              "      gap: 12px;\n",
              "    }\n",
              "\n",
              "    .colab-df-convert {\n",
              "      background-color: #E8F0FE;\n",
              "      border: none;\n",
              "      border-radius: 50%;\n",
              "      cursor: pointer;\n",
              "      display: none;\n",
              "      fill: #1967D2;\n",
              "      height: 32px;\n",
              "      padding: 0 0 0 0;\n",
              "      width: 32px;\n",
              "    }\n",
              "\n",
              "    .colab-df-convert:hover {\n",
              "      background-color: #E2EBFA;\n",
              "      box-shadow: 0px 1px 2px rgba(60, 64, 67, 0.3), 0px 1px 3px 1px rgba(60, 64, 67, 0.15);\n",
              "      fill: #174EA6;\n",
              "    }\n",
              "\n",
              "    [theme=dark] .colab-df-convert {\n",
              "      background-color: #3B4455;\n",
              "      fill: #D2E3FC;\n",
              "    }\n",
              "\n",
              "    [theme=dark] .colab-df-convert:hover {\n",
              "      background-color: #434B5C;\n",
              "      box-shadow: 0px 1px 3px 1px rgba(0, 0, 0, 0.15);\n",
              "      filter: drop-shadow(0px 1px 2px rgba(0, 0, 0, 0.3));\n",
              "      fill: #FFFFFF;\n",
              "    }\n",
              "  </style>\n",
              "\n",
              "      <script>\n",
              "        const buttonEl =\n",
              "          document.querySelector('#df-4ddb038d-75fe-43f6-94db-cf52c8a82958 button.colab-df-convert');\n",
              "        buttonEl.style.display =\n",
              "          google.colab.kernel.accessAllowed ? 'block' : 'none';\n",
              "\n",
              "        async function convertToInteractive(key) {\n",
              "          const element = document.querySelector('#df-4ddb038d-75fe-43f6-94db-cf52c8a82958');\n",
              "          const dataTable =\n",
              "            await google.colab.kernel.invokeFunction('convertToInteractive',\n",
              "                                                     [key], {});\n",
              "          if (!dataTable) return;\n",
              "\n",
              "          const docLinkHtml = 'Like what you see? Visit the ' +\n",
              "            '<a target=\"_blank\" href=https://colab.research.google.com/notebooks/data_table.ipynb>data table notebook</a>'\n",
              "            + ' to learn more about interactive tables.';\n",
              "          element.innerHTML = '';\n",
              "          dataTable['output_type'] = 'display_data';\n",
              "          await google.colab.output.renderOutput(dataTable, element);\n",
              "          const docLink = document.createElement('div');\n",
              "          docLink.innerHTML = docLinkHtml;\n",
              "          element.appendChild(docLink);\n",
              "        }\n",
              "      </script>\n",
              "    </div>\n",
              "  </div>\n",
              "  "
            ]
          },
          "metadata": {},
          "execution_count": 66
        }
      ]
    },
    {
      "cell_type": "code",
      "source": [
        "df = df.rename(columns={'oldbalanceOrg':'oldBalanceOrig', 'newbalanceOrig':'newBalanceOrig', \\\n",
        "                        'oldbalanceDest':'oldBalanceDest', 'newbalanceDest':'newBalanceDest'})\n",
        "print(df.head())"
      ],
      "metadata": {
        "colab": {
          "base_uri": "https://localhost:8080/"
        },
        "id": "giOXtaIMMfgM",
        "outputId": "35a99f24-390f-4309-ff22-3d5ded006f3a"
      },
      "execution_count": null,
      "outputs": [
        {
          "output_type": "stream",
          "name": "stdout",
          "text": [
            "   step      type    amount     nameOrig  oldBalanceOrig  newBalanceOrig  \\\n",
            "0     1   PAYMENT   9839.64  C1231006815        170136.0       160296.36   \n",
            "1     1   PAYMENT   1864.28  C1666544295         21249.0        19384.72   \n",
            "2     1  TRANSFER    181.00  C1305486145           181.0            0.00   \n",
            "3     1  CASH_OUT    181.00   C840083671           181.0            0.00   \n",
            "4     1   PAYMENT  11668.14  C2048537720         41554.0        29885.86   \n",
            "\n",
            "      nameDest  oldBalanceDest  newBalanceDest  isFraud  isFlaggedFraud  \n",
            "0  M1979787155             0.0             0.0        0               0  \n",
            "1  M2044282225             0.0             0.0        0               0  \n",
            "2   C553264065             0.0             0.0        1               0  \n",
            "3    C38997010         21182.0             0.0        1               0  \n",
            "4  M1230701703             0.0             0.0        0               0  \n"
          ]
        }
      ]
    },
    {
      "cell_type": "code",
      "source": [
        "df.dtypes"
      ],
      "metadata": {
        "colab": {
          "base_uri": "https://localhost:8080/"
        },
        "id": "jy0kUThVMjWL",
        "outputId": "6ef997f3-7a8a-4b9c-b804-54508598bbb5"
      },
      "execution_count": null,
      "outputs": [
        {
          "output_type": "execute_result",
          "data": {
            "text/plain": [
              "step                int64\n",
              "type               object\n",
              "amount            float64\n",
              "nameOrig           object\n",
              "oldBalanceOrig    float64\n",
              "newBalanceOrig    float64\n",
              "nameDest           object\n",
              "oldBalanceDest    float64\n",
              "newBalanceDest    float64\n",
              "isFraud             int64\n",
              "isFlaggedFraud      int64\n",
              "dtype: object"
            ]
          },
          "metadata": {},
          "execution_count": 68
        }
      ]
    },
    {
      "cell_type": "code",
      "source": [
        "df.shape"
      ],
      "metadata": {
        "colab": {
          "base_uri": "https://localhost:8080/"
        },
        "id": "VLcSF3zbMkJj",
        "outputId": "43815620-2a5c-4e32-c492-8612db2238e6"
      },
      "execution_count": null,
      "outputs": [
        {
          "output_type": "execute_result",
          "data": {
            "text/plain": [
              "(6362620, 11)"
            ]
          },
          "metadata": {},
          "execution_count": 69
        }
      ]
    },
    {
      "cell_type": "code",
      "source": [
        "df.isnull().sum()"
      ],
      "metadata": {
        "colab": {
          "base_uri": "https://localhost:8080/"
        },
        "id": "0YdrStrMMm0c",
        "outputId": "08aa0e91-595d-4edc-83da-40db1f95a016"
      },
      "execution_count": null,
      "outputs": [
        {
          "output_type": "execute_result",
          "data": {
            "text/plain": [
              "step              0\n",
              "type              0\n",
              "amount            0\n",
              "nameOrig          0\n",
              "oldBalanceOrig    0\n",
              "newBalanceOrig    0\n",
              "nameDest          0\n",
              "oldBalanceDest    0\n",
              "newBalanceDest    0\n",
              "isFraud           0\n",
              "isFlaggedFraud    0\n",
              "dtype: int64"
            ]
          },
          "metadata": {},
          "execution_count": 70
        }
      ]
    },
    {
      "cell_type": "code",
      "source": [
        "df.isnull().values.any()"
      ],
      "metadata": {
        "colab": {
          "base_uri": "https://localhost:8080/"
        },
        "id": "N2uS-wFPMs_b",
        "outputId": "7a6b0b41-db55-4377-953b-3db0e22ccb36"
      },
      "execution_count": null,
      "outputs": [
        {
          "output_type": "execute_result",
          "data": {
            "text/plain": [
              "False"
            ]
          },
          "metadata": {},
          "execution_count": 71
        }
      ]
    },
    {
      "cell_type": "code",
      "source": [
        "print('\\n The types of fraudulent transactions are {}'.format(\\\n",
        "list(df.loc[df.isFraud == 1].type.drop_duplicates().values))) # only 'CASH_OUT' \n",
        "                                                             # & 'TRANSFER'\n",
        "\n",
        "dft = df.loc[(df.isFraud == 1) & (df.type == 'TRANSFER')]\n",
        "dfc = df.loc[(df.isFraud == 1) & (df.type == 'CASH_OUT')]\n",
        "\n",
        "print ('\\n The number of fraudulent TRANSFERs = {}'.\\\n",
        "       format(len(dft))) # 4097\n",
        "\n",
        "print ('\\n The number of fraudulent CASH_OUTs = {}'.\\\n",
        "       format(len(dfc))) # 4116"
      ],
      "metadata": {
        "colab": {
          "base_uri": "https://localhost:8080/"
        },
        "id": "5UfB6WS4Mz3z",
        "outputId": "d1d315cb-5ef7-4cf1-da73-66381a9f99ce"
      },
      "execution_count": null,
      "outputs": [
        {
          "output_type": "stream",
          "name": "stdout",
          "text": [
            "\n",
            " The types of fraudulent transactions are ['TRANSFER', 'CASH_OUT']\n",
            "\n",
            " The number of fraudulent TRANSFERs = 4097\n",
            "\n",
            " The number of fraudulent CASH_OUTs = 4116\n"
          ]
        }
      ]
    },
    {
      "cell_type": "code",
      "source": [
        "print('\\nThe type of transactions in which isFlaggedFraud is set: \\\n",
        "{}'.format(list(df.loc[df.isFlaggedFraud == 1].type.drop_duplicates()))) \n",
        "                                                            # only 'TRANSFER'\n",
        "\n",
        "dfTransfer = df.loc[df.type == 'TRANSFER']\n",
        "dfFlagged = df.loc[df.isFlaggedFraud == 1]\n",
        "dfNotFlagged = df.loc[df.isFlaggedFraud == 0]\n",
        "\n",
        "print('\\nMin amount transacted when isFlaggedFraud is set= {}'\\\n",
        "                                  .format(dfFlagged.amount.min())) # 353874.22\n",
        "\n",
        "print('\\nMax amount transacted in a TRANSFER where isFlaggedFraud is not set=\\\n",
        " {}'.format(dfTransfer.loc[dfTransfer.isFlaggedFraud == 0].amount.max()))"
      ],
      "metadata": {
        "colab": {
          "base_uri": "https://localhost:8080/"
        },
        "id": "Ib7pGj-AM4pL",
        "outputId": "79e5c3e4-ba5d-46c1-bd59-05ba52258c63"
      },
      "execution_count": null,
      "outputs": [
        {
          "output_type": "stream",
          "name": "stdout",
          "text": [
            "\n",
            "The type of transactions in which isFlaggedFraud is set: ['TRANSFER']\n",
            "\n",
            "Min amount transacted when isFlaggedFraud is set= 353874.22\n",
            "\n",
            "Max amount transacted in a TRANSFER where isFlaggedFraud is not set= 92445516.64\n"
          ]
        }
      ]
    },
    {
      "cell_type": "code",
      "source": [
        "print('\\nAre there any merchants among originator accounts for CASH_IN \\\n",
        "transactions? {}'.format(\\\n",
        "(df.loc[df.type == 'CASH_IN'].nameOrig.str.contains('M')).any()))"
      ],
      "metadata": {
        "colab": {
          "base_uri": "https://localhost:8080/"
        },
        "id": "i2_BsYghM6Kj",
        "outputId": "dcbbea3c-7de1-4f96-8eb6-1049baf3ea7e"
      },
      "execution_count": null,
      "outputs": [
        {
          "output_type": "stream",
          "name": "stdout",
          "text": [
            "\n",
            "Are there any merchants among originator accounts for CASH_IN transactions? False\n"
          ]
        }
      ]
    },
    {
      "cell_type": "code",
      "source": [
        "print('\\nAre there any merchants among destination accounts for CASH_OUT \\\n",
        "transactions? {}'.format(\\\n",
        "(df.loc[df.type == 'CASH_OUT'].nameDest.str.contains('M')).any())) "
      ],
      "metadata": {
        "colab": {
          "base_uri": "https://localhost:8080/"
        },
        "id": "0GVpt3LDM-m7",
        "outputId": "b76258b3-5bd2-4fb8-f816-d78108e47731"
      },
      "execution_count": null,
      "outputs": [
        {
          "output_type": "stream",
          "name": "stdout",
          "text": [
            "\n",
            "Are there any merchants among destination accounts for CASH_OUT transactions? False\n"
          ]
        }
      ]
    },
    {
      "cell_type": "code",
      "source": [
        "print('\\nAre there merchants among any originator accounts? {}'.format(\\\n",
        "      df.nameOrig.str.contains('M').any())) # False\n",
        "\n",
        "print('\\nAre there any transactions having merchants among destination accounts\\\n",
        " other than the PAYMENT type? {}'.format(\\\n",
        "(df.loc[df.nameDest.str.contains('M')].type != 'PAYMENT').any()))"
      ],
      "metadata": {
        "colab": {
          "base_uri": "https://localhost:8080/"
        },
        "id": "oHrKxTjFNDGL",
        "outputId": "1a75500e-8a95-46fc-c05a-6e1eb4a9f3ed"
      },
      "execution_count": null,
      "outputs": [
        {
          "output_type": "stream",
          "name": "stdout",
          "text": [
            "\n",
            "Are there merchants among any originator accounts? False\n",
            "\n",
            "Are there any transactions having merchants among destination accounts other than the PAYMENT type? False\n"
          ]
        }
      ]
    },
    {
      "cell_type": "code",
      "source": [
        "print('\\nWithin fraudulent transactions, are there destinations for TRANSFERS \\\n",
        "that are also originators for CASH_OUTs? {}'.format(\\\n",
        "(dft.nameDest.isin(dfc.nameOrig)).any())) # False\n",
        "dfNotFraud = df.loc[df.isFraud == 0]"
      ],
      "metadata": {
        "colab": {
          "base_uri": "https://localhost:8080/"
        },
        "id": "g5g6BreyNP8i",
        "outputId": "98dced5f-1088-4c2c-a526-077709f4e0da"
      },
      "execution_count": null,
      "outputs": [
        {
          "output_type": "stream",
          "name": "stdout",
          "text": [
            "\n",
            "Within fraudulent transactions, are there destinations for TRANSFERS that are also originators for CASH_OUTs? False\n"
          ]
        }
      ]
    },
    {
      "cell_type": "code",
      "source": [
        "print('\\nFraudulent TRANSFERs whose destination accounts are originators of \\\n",
        "genuine CASH_OUTs: \\n\\n{}'.format(dft.loc[dft.nameDest.\\\n",
        "isin(dfNotFraud.loc[dfNotFraud.type == 'CASH_OUT'].nameOrig.drop_duplicates())]))"
      ],
      "metadata": {
        "colab": {
          "base_uri": "https://localhost:8080/"
        },
        "id": "vndLJoFFNT_j",
        "outputId": "77e403ed-8833-4291-f47e-743858af63b3"
      },
      "execution_count": null,
      "outputs": [
        {
          "output_type": "stream",
          "name": "stdout",
          "text": [
            "\n",
            "Fraudulent TRANSFERs whose destination accounts are originators of genuine CASH_OUTs: \n",
            "\n",
            "         step      type      amount     nameOrig  oldBalanceOrig  \\\n",
            "1030443    65  TRANSFER  1282971.57  C1175896731      1282971.57   \n",
            "6039814   486  TRANSFER   214793.32  C2140495649       214793.32   \n",
            "6362556   738  TRANSFER   814689.88  C2029041842       814689.88   \n",
            "\n",
            "         newBalanceOrig     nameDest  oldBalanceDest  newBalanceDest  isFraud  \\\n",
            "1030443             0.0  C1714931087             0.0             0.0        1   \n",
            "6039814             0.0   C423543548             0.0             0.0        1   \n",
            "6362556             0.0  C1023330867             0.0             0.0        1   \n",
            "\n",
            "         isFlaggedFraud  \n",
            "1030443               0  \n",
            "6039814               0  \n",
            "6362556               0  \n"
          ]
        }
      ]
    },
    {
      "cell_type": "code",
      "source": [
        "print('\\nFraudulent TRANSFER to C423543548 occured at step = 486 whereas \\\n",
        "genuine CASH_OUT from this account occured earlier at step = {}'.format(\\\n",
        "dfNotFraud.loc[(dfNotFraud.type == 'CASH_OUT') & (dfNotFraud.nameOrig == \\\n",
        "                           'C423543548')].step.values)) "
      ],
      "metadata": {
        "colab": {
          "base_uri": "https://localhost:8080/"
        },
        "id": "z0CMQXOpNY6E",
        "outputId": "5b3a9c2d-03b6-4362-dd5f-3e0414497d11"
      },
      "execution_count": null,
      "outputs": [
        {
          "output_type": "stream",
          "name": "stdout",
          "text": [
            "\n",
            "Fraudulent TRANSFER to C423543548 occured at step = 486 whereas genuine CASH_OUT from this account occured earlier at step = [185]\n"
          ]
        }
      ]
    },
    {
      "cell_type": "code",
      "source": [
        "fraud_check = pd.value_counts(df['isFraud'], sort =True)\n",
        "fraud_check.plot(kind = 'bar', rot=0, color='r')\n",
        "plt.title(\"Normal and fraud distribution\")\n",
        "plt.xlabel(\"Class\")\n",
        "plt.ylabel(\"Frequency\")\n",
        "Labels = ['Normal','Fraud']\n",
        "plt.xticks(range(2), Labels)\n",
        "plt.show()"
      ],
      "metadata": {
        "colab": {
          "base_uri": "https://localhost:8080/",
          "height": 295
        },
        "id": "vpWi548XNZxL",
        "outputId": "0a8cea8b-1a14-4f62-b0d7-e3d92b48369b"
      },
      "execution_count": null,
      "outputs": [
        {
          "output_type": "display_data",
          "data": {
            "text/plain": [
              "<Figure size 432x288 with 1 Axes>"
            ],
            "image/png": "[encoded data removed]"
          },
          "metadata": {
            "needs_background": "light"
          }
        }
      ]
    },
    {
      "cell_type": "code",
      "source": [
        "fraud_people = df[df['isFraud']==1]\n",
        "normal_people = df[df['isFraud']==0]"
      ],
      "metadata": {
        "id": "v6rlDaeONfPb"
      },
      "execution_count": null,
      "outputs": []
    },
    {
      "cell_type": "code",
      "source": [
        "fraud_people.shape"
      ],
      "metadata": {
        "colab": {
          "base_uri": "https://localhost:8080/"
        },
        "id": "INcw7FYuNgGr",
        "outputId": "f87aaa09-21bf-4dac-cf5b-a7d53d2e7e55"
      },
      "execution_count": null,
      "outputs": [
        {
          "output_type": "execute_result",
          "data": {
            "text/plain": [
              "(8213, 11)"
            ]
          },
          "metadata": {},
          "execution_count": 39
        }
      ]
    },
    {
      "cell_type": "code",
      "source": [
        "normal_people.shape"
      ],
      "metadata": {
        "colab": {
          "base_uri": "https://localhost:8080/"
        },
        "id": "7KRt2ckwNifT",
        "outputId": "e9d388c6-885d-4b2c-8366-88708f8d3c7d"
      },
      "execution_count": null,
      "outputs": [
        {
          "output_type": "execute_result",
          "data": {
            "text/plain": [
              "(6354407, 11)"
            ]
          },
          "metadata": {},
          "execution_count": 40
        }
      ]
    },
    {
      "cell_type": "code",
      "source": [
        "fraud_people['amount'].describe()"
      ],
      "metadata": {
        "colab": {
          "base_uri": "https://localhost:8080/"
        },
        "id": "Kh4zvW_aNlUj",
        "outputId": "b9880556-eb23-4303-cecc-32d645f16f5d"
      },
      "execution_count": null,
      "outputs": [
        {
          "output_type": "execute_result",
          "data": {
            "text/plain": [
              "count    8.213000e+03\n",
              "mean     1.467967e+06\n",
              "std      2.404253e+06\n",
              "min      0.000000e+00\n",
              "25%      1.270913e+05\n",
              "50%      4.414234e+05\n",
              "75%      1.517771e+06\n",
              "max      1.000000e+07\n",
              "Name: amount, dtype: float64"
            ]
          },
          "metadata": {},
          "execution_count": 41
        }
      ]
    },
    {
      "cell_type": "code",
      "source": [
        "normal_people['amount'].describe()"
      ],
      "metadata": {
        "colab": {
          "base_uri": "https://localhost:8080/"
        },
        "id": "oG-mDm5sNo56",
        "outputId": "b8686901-485d-43b8-98e5-2e8596199f8f"
      },
      "execution_count": null,
      "outputs": [
        {
          "output_type": "execute_result",
          "data": {
            "text/plain": [
              "count    6.354407e+06\n",
              "mean     1.781970e+05\n",
              "std      5.962370e+05\n",
              "min      1.000000e-02\n",
              "25%      1.336840e+04\n",
              "50%      7.468472e+04\n",
              "75%      2.083648e+05\n",
              "max      9.244552e+07\n",
              "Name: amount, dtype: float64"
            ]
          },
          "metadata": {},
          "execution_count": 42
        }
      ]
    },
    {
      "cell_type": "code",
      "source": [
        "graph, (plot1, plot2) = plt.subplots(2,1,sharex = True) #sharex used to avoid overlapping of titles\n",
        "graph.suptitle(\"Average amount per class\")\n",
        "bins = 70\n",
        "\n",
        "plot1.hist(fraud_people['amount'], bins = bins)\n",
        "plot1.set_title('Fraud Amount')\n",
        "\n",
        "plot2.hist(normal_people['amount'], bins = bins)\n",
        "plot2.set_title('Normal Amount')\n",
        "\n",
        "plt.xlabel('amount ($) ')\n",
        "plt.ylabel('Number of Transactions')\n",
        "plt.yscale('log')\n",
        "plt.show();"
      ],
      "metadata": {
        "colab": {
          "base_uri": "https://localhost:8080/",
          "height": 308
        },
        "id": "TXkrpE6NNs5T",
        "outputId": "ca11e33f-bfb6-4d26-ba02-44fa5dea94bb"
      },
      "execution_count": null,
      "outputs": [
        {
          "output_type": "display_data",
          "data": {
            "text/plain": [
              "<Figure size 432x288 with 2 Axes>"
            ],
            "image/png": "[encoded data removed]"
          },
          "metadata": {
            "needs_background": "light"
          }
        }
      ]
    },
    {
      "cell_type": "code",
      "source": [
        "df.corr\n",
        "plt.figure(figsize =(20,20))\n",
        "g=sns.heatmap(df.corr(),annot=True)"
      ],
      "metadata": {
        "colab": {
          "base_uri": "https://localhost:8080/",
          "height": 1000
        },
        "id": "gtBE3vBNNxKr",
        "outputId": "c7c30162-a6d7-4a97-8292-029286385799"
      },
      "execution_count": null,
      "outputs": [
        {
          "output_type": "display_data",
          "data": {
            "text/plain": [
              "<Figure size 1440x1440 with 2 Axes>"
            ],
            "image/png": "[encoded data removed]"
          },
          "metadata": {
            "needs_background": "light"
          }
        }
      ]
    },
    {
      "cell_type": "code",
      "source": [
        "columns = df.columns.tolist()\n",
        "# Making our independent Features\n",
        "columns = [var for var in columns if var not in [\"isFraud\"]]\n",
        "# Making our Dependent Variable\n",
        "target = \"isFraud\"\n",
        "x = df[columns]\n",
        "y = df[target]"
      ],
      "metadata": {
        "id": "4BEvGLHkN1Jc"
      },
      "execution_count": null,
      "outputs": []
    },
    {
      "cell_type": "code",
      "source": [
        "x['type'].replace(['CASH_IN','CASH_OUT','DEBIT','PAYMENT','TRANSFER'],['1','2','3','4','5',], inplace=True)"
      ],
      "metadata": {
        "colab": {
          "base_uri": "https://localhost:8080/"
        },
        "id": "Tcu1eS0ZN4Uk",
        "outputId": "ce33fea8-8233-4328-de91-2784f24f64b3"
      },
      "execution_count": null,
      "outputs": [
        {
          "output_type": "stream",
          "name": "stderr",
          "text": [
            "/usr/local/lib/python3.7/dist-packages/pandas/core/generic.py:6619: SettingWithCopyWarning: \n",
            "A value is trying to be set on a copy of a slice from a DataFrame\n",
            "\n",
            "See the caveats in the documentation: https://pandas.pydata.org/pandas-docs/stable/user_guide/indexing.html#returning-a-view-versus-a-copy\n",
            "  return self._update_inplace(result)\n"
          ]
        }
      ]
    },
    {
      "cell_type": "code",
      "source": [
        "x.drop(['nameOrig','nameDest','isFlaggedFraud'],axis=1, inplace=True)\n",
        "x.head()"
      ],
      "metadata": {
        "colab": {
          "base_uri": "https://localhost:8080/",
          "height": 293
        },
        "id": "Zjvu6PdyN7VD",
        "outputId": "b4984155-4cf1-4a86-f4fb-4a9918e8e0ca"
      },
      "execution_count": null,
      "outputs": [
        {
          "output_type": "stream",
          "name": "stderr",
          "text": [
            "/usr/local/lib/python3.7/dist-packages/pandas/core/frame.py:4913: SettingWithCopyWarning: \n",
            "A value is trying to be set on a copy of a slice from a DataFrame\n",
            "\n",
            "See the caveats in the documentation: https://pandas.pydata.org/pandas-docs/stable/user_guide/indexing.html#returning-a-view-versus-a-copy\n",
            "  errors=errors,\n"
          ]
        },
        {
          "output_type": "execute_result",
          "data": {
            "text/plain": [
              "   step type    amount  oldBalanceOrig  newBalanceOrig  oldBalanceDest  \\\n",
              "0     1    4   9839.64        170136.0       160296.36             0.0   \n",
              "1     1    4   1864.28         21249.0        19384.72             0.0   \n",
              "2     1    5    181.00           181.0            0.00             0.0   \n",
              "3     1    2    181.00           181.0            0.00         21182.0   \n",
              "4     1    4  11668.14         41554.0        29885.86             0.0   \n",
              "\n",
              "   newBalanceDest  \n",
              "0             0.0  \n",
              "1             0.0  \n",
              "2             0.0  \n",
              "3             0.0  \n",
              "4             0.0  "
            ],
            "text/html": [
              "\n",
              "  <div id=\"df-c53d5f9e-744a-43e6-8b27-67ab5a7ac790\">\n",
              "    <div class=\"colab-df-container\">\n",
              "      <div>\n",
              "<style scoped>\n",
              "    .dataframe tbody tr th:only-of-type {\n",
              "        vertical-align: middle;\n",
              "    }\n",
              "\n",
              "    .dataframe tbody tr th {\n",
              "        vertical-align: top;\n",
              "    }\n",
              "\n",
              "    .dataframe thead th {\n",
              "        text-align: right;\n",
              "    }\n",
              "</style>\n",
              "<table border=\"1\" class=\"dataframe\">\n",
              "  <thead>\n",
              "    <tr style=\"text-align: right;\">\n",
              "      <th></th>\n",
              "      <th>step</th>\n",
              "      <th>type</th>\n",
              "      <th>amount</th>\n",
              "      <th>oldBalanceOrig</th>\n",
              "      <th>newBalanceOrig</th>\n",
              "      <th>oldBalanceDest</th>\n",
              "      <th>newBalanceDest</th>\n",
              "    </tr>\n",
              "  </thead>\n",
              "  <tbody>\n",
              "    <tr>\n",
              "      <th>0</th>\n",
              "      <td>1</td>\n",
              "      <td>4</td>\n",
              "      <td>9839.64</td>\n",
              "      <td>170136.0</td>\n",
              "      <td>160296.36</td>\n",
              "      <td>0.0</td>\n",
              "      <td>0.0</td>\n",
              "    </tr>\n",
              "    <tr>\n",
              "      <th>1</th>\n",
              "      <td>1</td>\n",
              "      <td>4</td>\n",
              "      <td>1864.28</td>\n",
              "      <td>21249.0</td>\n",
              "      <td>19384.72</td>\n",
              "      <td>0.0</td>\n",
              "      <td>0.0</td>\n",
              "    </tr>\n",
              "    <tr>\n",
              "      <th>2</th>\n",
              "      <td>1</td>\n",
              "      <td>5</td>\n",
              "      <td>181.00</td>\n",
              "      <td>181.0</td>\n",
              "      <td>0.00</td>\n",
              "      <td>0.0</td>\n",
              "      <td>0.0</td>\n",
              "    </tr>\n",
              "    <tr>\n",
              "      <th>3</th>\n",
              "      <td>1</td>\n",
              "      <td>2</td>\n",
              "      <td>181.00</td>\n",
              "      <td>181.0</td>\n",
              "      <td>0.00</td>\n",
              "      <td>21182.0</td>\n",
              "      <td>0.0</td>\n",
              "    </tr>\n",
              "    <tr>\n",
              "      <th>4</th>\n",
              "      <td>1</td>\n",
              "      <td>4</td>\n",
              "      <td>11668.14</td>\n",
              "      <td>41554.0</td>\n",
              "      <td>29885.86</td>\n",
              "      <td>0.0</td>\n",
              "      <td>0.0</td>\n",
              "    </tr>\n",
              "  </tbody>\n",
              "</table>\n",
              "</div>\n",
              "      <button class=\"colab-df-convert\" onclick=\"convertToInteractive('df-c53d5f9e-744a-43e6-8b27-67ab5a7ac790')\"\n",
              "              title=\"Convert this dataframe to an interactive table.\"\n",
              "              style=\"display:none;\">\n",
              "        \n",
              "  <svg xmlns=\"http://www.w3.org/2000/svg\" height=\"24px\"viewBox=\"0 0 24 24\"\n",
              "       width=\"24px\">\n",
              "    <path d=\"M0 0h24v24H0V0z\" fill=\"none\"/>\n",
              "    <path d=\"M18.56 5.44l.94 2.06.94-2.06 2.06-.94-2.06-.94-.94-2.06-.94 2.06-2.06.94zm-11 1L8.5 8.5l.94-2.06 2.06-.94-2.06-.94L8.5 2.5l-.94 2.06-2.06.94zm10 10l.94 2.06.94-2.06 2.06-.94-2.06-.94-.94-2.06-.94 2.06-2.06.94z\"/><path d=\"M17.41 7.96l-1.37-1.37c-.4-.4-.92-.59-1.43-.59-.52 0-1.04.2-1.43.59L10.3 9.45l-7.72 7.72c-.78.78-.78 2.05 0 2.83L4 21.41c.39.39.9.59 1.41.59.51 0 1.02-.2 1.41-.59l7.78-7.78 2.81-2.81c.8-.78.8-2.07 0-2.86zM5.41 20L4 18.59l7.72-7.72 1.47 1.35L5.41 20z\"/>\n",
              "  </svg>\n",
              "      </button>\n",
              "      \n",
              "  <style>\n",
              "    .colab-df-container {\n",
              "      display:flex;\n",
              "      flex-wrap:wrap;\n",
              "      gap: 12px;\n",
              "    }\n",
              "\n",
              "    .colab-df-convert {\n",
              "      background-color: #E8F0FE;\n",
              "      border: none;\n",
              "      border-radius: 50%;\n",
              "      cursor: pointer;\n",
              "      display: none;\n",
              "      fill: #1967D2;\n",
              "      height: 32px;\n",
              "      padding: 0 0 0 0;\n",
              "      width: 32px;\n",
              "    }\n",
              "\n",
              "    .colab-df-convert:hover {\n",
              "      background-color: #E2EBFA;\n",
              "      box-shadow: 0px 1px 2px rgba(60, 64, 67, 0.3), 0px 1px 3px 1px rgba(60, 64, 67, 0.15);\n",
              "      fill: #174EA6;\n",
              "    }\n",
              "\n",
              "    [theme=dark] .colab-df-convert {\n",
              "      background-color: #3B4455;\n",
              "      fill: #D2E3FC;\n",
              "    }\n",
              "\n",
              "    [theme=dark] .colab-df-convert:hover {\n",
              "      background-color: #434B5C;\n",
              "      box-shadow: 0px 1px 3px 1px rgba(0, 0, 0, 0.15);\n",
              "      filter: drop-shadow(0px 1px 2px rgba(0, 0, 0, 0.3));\n",
              "      fill: #FFFFFF;\n",
              "    }\n",
              "  </style>\n",
              "\n",
              "      <script>\n",
              "        const buttonEl =\n",
              "          document.querySelector('#df-c53d5f9e-744a-43e6-8b27-67ab5a7ac790 button.colab-df-convert');\n",
              "        buttonEl.style.display =\n",
              "          google.colab.kernel.accessAllowed ? 'block' : 'none';\n",
              "\n",
              "        async function convertToInteractive(key) {\n",
              "          const element = document.querySelector('#df-c53d5f9e-744a-43e6-8b27-67ab5a7ac790');\n",
              "          const dataTable =\n",
              "            await google.colab.kernel.invokeFunction('convertToInteractive',\n",
              "                                                     [key], {});\n",
              "          if (!dataTable) return;\n",
              "\n",
              "          const docLinkHtml = 'Like what you see? Visit the ' +\n",
              "            '<a target=\"_blank\" href=https://colab.research.google.com/notebooks/data_table.ipynb>data table notebook</a>'\n",
              "            + ' to learn more about interactive tables.';\n",
              "          element.innerHTML = '';\n",
              "          dataTable['output_type'] = 'display_data';\n",
              "          await google.colab.output.renderOutput(dataTable, element);\n",
              "          const docLink = document.createElement('div');\n",
              "          docLink.innerHTML = docLinkHtml;\n",
              "          element.appendChild(docLink);\n",
              "        }\n",
              "      </script>\n",
              "    </div>\n",
              "  </div>\n",
              "  "
            ]
          },
          "metadata": {},
          "execution_count": 47
        }
      ]
    },
    {
      "cell_type": "code",
      "source": [
        "y.head()"
      ],
      "metadata": {
        "colab": {
          "base_uri": "https://localhost:8080/"
        },
        "id": "vcNP0OK_OAfj",
        "outputId": "2264c836-171a-4395-c5fb-6e9de3194655"
      },
      "execution_count": null,
      "outputs": [
        {
          "output_type": "execute_result",
          "data": {
            "text/plain": [
              "0    0\n",
              "1    0\n",
              "2    1\n",
              "3    1\n",
              "4    0\n",
              "Name: isFraud, dtype: int64"
            ]
          },
          "metadata": {},
          "execution_count": 48
        }
      ]
    },
    {
      "cell_type": "code",
      "source": [
        "from sklearn.model_selection import train_test_split\n",
        "x_train, x_test, y_train, y_test = train_test_split(x,y, test_size=0.30, random_state = 42)"
      ],
      "metadata": {
        "id": "nQy9Yf27OHeL"
      },
      "execution_count": null,
      "outputs": []
    },
    {
      "cell_type": "code",
      "source": [
        "iso_forest = IsolationForest(n_estimators =100, max_samples = len(x_train), random_state=0, verbose=0)"
      ],
      "metadata": {
        "id": "nsFNgCfmOLET"
      },
      "execution_count": null,
      "outputs": []
    },
    {
      "cell_type": "code",
      "source": [
        "iso_forest.fit(x_train,y_train)"
      ],
      "metadata": {
        "colab": {
          "base_uri": "https://localhost:8080/"
        },
        "id": "6a7RJnMyOL4z",
        "outputId": "bbe482e0-acac-485f-ab37-cd1c1b6f6c9d"
      },
      "execution_count": null,
      "outputs": [
        {
          "output_type": "execute_result",
          "data": {
            "text/plain": [
              "IsolationForest(max_samples=4453834, random_state=0)"
            ]
          },
          "metadata": {},
          "execution_count": 52
        }
      ]
    },
    {
      "cell_type": "code",
      "source": [
        "start_time = time.perf_counter()\n",
        "try:\n",
        "  print(\"Training the Model.......\")\n",
        "# Now we will evaluated with more threads\n",
        "  threads=[]\n",
        "  N_THREADS=5\n",
        "  for i in range(N_THREADS):\n",
        "    threads.append(multiprocessing.Process(iso_forest.fit(x_train,y_train),\"\"))\n",
        "  for thread in threads:\n",
        "    thread.start()\n",
        "\n",
        "  for thread in threads:\n",
        "    thread.join()\n",
        "except:\n",
        "  print(\"An exception occurred\")\n",
        "finish_time = time.perf_counter()\n",
        "\n",
        "print(f\"Program finished in {finish_time-start_time} seconds\")\n",
        "print(\"Saving the Model.......\")"
      ],
      "metadata": {
        "colab": {
          "base_uri": "https://localhost:8080/"
        },
        "id": "pZLQzFSiOVfD",
        "outputId": "bb7b134b-ce37-4e79-e219-322da9c95fb2"
      },
      "execution_count": null,
      "outputs": [
        {
          "output_type": "stream",
          "name": "stdout",
          "text": [
            "Training the Model.......\n",
            "An exception occurred\n",
            "Program finished in 434.42982580199896 seconds\n",
            "Saving the Model.......\n"
          ]
        }
      ]
    },
    {
      "cell_type": "code",
      "source": [
        "ypred = iso_forest.predict(x_test)"
      ],
      "metadata": {
        "id": "gHWl98GtOMgj"
      },
      "execution_count": null,
      "outputs": []
    },
    {
      "cell_type": "code",
      "source": [
        "ypred[ypred == 1] = 0\n",
        "ypred[ypred == -1] = 1"
      ],
      "metadata": {
        "id": "ffDhdJk2Oa7k"
      },
      "execution_count": null,
      "outputs": []
    },
    {
      "cell_type": "code",
      "source": [
        "print(accuracy_score(y_test,ypred))"
      ],
      "metadata": {
        "colab": {
          "base_uri": "https://localhost:8080/"
        },
        "id": "2zhnIHSUOha7",
        "outputId": "8895048f-025e-43c9-ecf1-f012d4e0c7c1"
      },
      "execution_count": null,
      "outputs": [
        {
          "output_type": "stream",
          "name": "stdout",
          "text": [
            "0.9931794344677717\n"
          ]
        }
      ]
    },
    {
      "cell_type": "code",
      "source": [
        "print(classification_report(y_test,ypred))"
      ],
      "metadata": {
        "colab": {
          "base_uri": "https://localhost:8080/"
        },
        "id": "kN200ubJOiNC",
        "outputId": "205e0415-2609-4ceb-ed4c-7646f59111dc"
      },
      "execution_count": null,
      "outputs": [
        {
          "output_type": "stream",
          "name": "stdout",
          "text": [
            "              precision    recall  f1-score   support\n",
            "\n",
            "           0       1.00      0.99      1.00   1906351\n",
            "           1       0.05      0.22      0.08      2435\n",
            "\n",
            "    accuracy                           0.99   1908786\n",
            "   macro avg       0.52      0.61      0.54   1908786\n",
            "weighted avg       1.00      0.99      1.00   1908786\n",
            "\n"
          ]
        }
      ]
    },
    {
      "cell_type": "code",
      "source": [
        "from sklearn.metrics import confusion_matrix"
      ],
      "metadata": {
        "id": "qqG41NOSOlej"
      },
      "execution_count": null,
      "outputs": []
    },
    {
      "cell_type": "code",
      "source": [
        "confusion_matrix(y_test, ypred)"
      ],
      "metadata": {
        "colab": {
          "base_uri": "https://localhost:8080/"
        },
        "id": "VPNpbcLfOpUL",
        "outputId": "94617e1a-87a1-4974-87e8-9bcda3517ec4"
      },
      "execution_count": null,
      "outputs": [
        {
          "output_type": "execute_result",
          "data": {
            "text/plain": [
              "array([[1895225,   11126],\n",
              "       [   1893,     542]])"
            ]
          },
          "metadata": {},
          "execution_count": 59
        }
      ]
    },
    {
      "cell_type": "code",
      "source": [
        "n_erorrs = (ypred != y_test).sum()\n",
        "print(\"Isolation Forest have {} erorrs.\".format(n_erorrs))"
      ],
      "metadata": {
        "colab": {
          "base_uri": "https://localhost:8080/"
        },
        "id": "Aeixx7t4OtPD",
        "outputId": "eea5f837-3b45-4439-eef9-cad88fbb61e8"
      },
      "execution_count": null,
      "outputs": [
        {
          "output_type": "stream",
          "name": "stdout",
          "text": [
            "Isolation Forest have 13019 erorrs.\n"
          ]
        }
      ]
    }
  ]
}